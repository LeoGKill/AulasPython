{
 "cells": [
  {
   "cell_type": "code",
   "execution_count": 1,
   "metadata": {},
   "outputs": [
    {
     "name": "stdout",
     "output_type": "stream",
     "text": [
      "Alo mundo\n"
     ]
    }
   ],
   "source": [
    "print('Alo mundo')"
   ]
  },
  {
   "cell_type": "code",
   "execution_count": 3,
   "metadata": {},
   "outputs": [
    {
     "name": "stdout",
     "output_type": "stream",
     "text": [
      "Digite um numero10\n",
      "O numero foi10\n"
     ]
    }
   ],
   "source": [
    "num = input('Digite um numero')\n",
    "print('O numero foi'+ num)"
   ]
  },
  {
   "cell_type": "code",
   "execution_count": 14,
   "metadata": {},
   "outputs": [
    {
     "name": "stdout",
     "output_type": "stream",
     "text": [
      "Digite um numero:10\n",
      "Digite um numero:20\n"
     ]
    }
   ],
   "source": [
    "num1= int(input('Digite um numero:'))\n",
    "num2= int(input('Digite um numero:'))\n",
    "soma = (num1) + (num2)\n",
    "\n",
    "print= ('A soma dos dois numero eh'+str(soma))"
   ]
  },
  {
   "cell_type": "code",
   "execution_count": 1,
   "metadata": {},
   "outputs": [
    {
     "name": "stdout",
     "output_type": "stream",
     "text": [
      "Digite um numero: 10\n",
      "Digite um numero: 10\n",
      "Digite um numero: 10\n",
      "Sua media eh: 10.0\n"
     ]
    }
   ],
   "source": [
    "num1 = int(input('Digite um numero: '))\n",
    "num2 = int(input('Digite um numero: '))\n",
    "num3 = int(input('Digite um numero: '))\n",
    "media= (num1 + num2 + num3) / 3\n",
    "\n",
    "\n",
    "print('Sua media eh: ' + str(media))\n",
    "\n",
    "\n",
    "\n"
   ]
  },
  {
   "cell_type": "code",
   "execution_count": 2,
   "metadata": {},
   "outputs": [
    {
     "name": "stdout",
     "output_type": "stream",
     "text": [
      "Digite valor em metros:10\n",
      "O valor em centimetros vale: 1000\n"
     ]
    }
   ],
   "source": [
    "metro = int(input('Digite valor em metros:'))\n",
    "cent = metro * 100\n",
    " \n",
    "print('O valor em centimetros vale: ' +str(cent))    "
   ]
  },
  {
   "cell_type": "code",
   "execution_count": 6,
   "metadata": {},
   "outputs": [
    {
     "name": "stdout",
     "output_type": "stream",
     "text": [
      "Digite um numero10\n",
      "Digite outro numero20\n",
      "O maior numero eh: 20\n"
     ]
    }
   ],
   "source": [
    "num1 = int(input('Digite um numero '))\n",
    "num2 = int(input('Digite outro numero '))\n",
    "\n",
    "if num1 > num2:\n",
    "    print('o maior numero eh: ' + str(num1))\n",
    "else:\n",
    "    print('O maior numero eh: ' + str(num2))"
   ]
  },
  {
   "cell_type": "code",
   "execution_count": 7,
   "metadata": {},
   "outputs": [
    {
     "name": "stdout",
     "output_type": "stream",
     "text": [
      "Digite um numero:10\n",
      "O numero inserido eh positivo\n"
     ]
    }
   ],
   "source": [
    "num = int(input('Digite um numero:'))\n",
    "\n",
    "if num >= 0:\n",
    "    print('O numero inserido eh positivo')\n",
    "else:\n",
    "    print('O numero inserido ej negativo')"
   ]
  },
  {
   "cell_type": "code",
   "execution_count": 2,
   "metadata": {},
   "outputs": [
    {
     "name": "stdout",
     "output_type": "stream",
     "text": [
      "Digite a primeira letra do seu sexo: m\n",
      "Sexo masculino\n"
     ]
    }
   ],
   "source": [
    "sexo = input('Digite a primeira letra do seu sexo: ')\n",
    "\n",
    "if sexo == 'f':\n",
    "    print('Sexo Feminino')\n",
    "if sexo == 'm':\n",
    "    print('Sexo masculino')\n",
    "if sexo != 'f' and sexo !='m' :\n",
    "    print('Sexo invalido')"
   ]
  },
  {
   "cell_type": "code",
   "execution_count": 2,
   "metadata": {},
   "outputs": [
    {
     "name": "stdout",
     "output_type": "stream",
     "text": [
      "Digite uma letra: k\n",
      "Consoante\n"
     ]
    }
   ],
   "source": [
    "letra = input('Digite uma letra: ')\n",
    "\n",
    "if letra == 'a' or letra == 'e' or letra == 'i' or letra == 'o' or letra == 'u':\n",
    "    print('Vogal')\n",
    "else:\n",
    "    print('Consoante')"
   ]
  },
  {
   "cell_type": "code",
   "execution_count": 5,
   "metadata": {},
   "outputs": [
    {
     "name": "stdout",
     "output_type": "stream",
     "text": [
      "Digite a nota 1: 10\n",
      "Digite a nota 2: 10\n",
      "Sua media eh: 10.0\n",
      "Aprovado com distincao\n"
     ]
    }
   ],
   "source": [
    "nota1 = int(input('Digite a nota 1: '))\n",
    "nota2 = int(input('Digite a nota 2: '))\n",
    "media = (nota1 + nota2) /2\n",
    "print('Sua media eh: ' +str(media))\n",
    "if media >= 7 and media < 10:\n",
    "    print('Aprovado')\n",
    "if media < 7:\n",
    "    print('Reprovado')\n",
    "if media == 10:\n",
    "    print('Aprovado com distincao')"
   ]
  },
  {
   "cell_type": "code",
   "execution_count": 8,
   "metadata": {},
   "outputs": [
    {
     "name": "stdout",
     "output_type": "stream",
     "text": [
      "Digite sua nota11\n",
      "Sua nota eh invalida\n",
      "Digite sua nota11\n",
      "Sua nota eh invalida\n",
      "Digite sua nota1\n",
      "Sua nota eh 1\n"
     ]
    }
   ],
   "source": [
    "x = 0\n",
    "while x == 0:\n",
    "    nota=int(input('Digite sua nota'))\n",
    "    if nota < 0 or nota > 10:\n",
    "        print('Sua nota eh invalida')\n",
    "    else:\n",
    "        print('Sua nota eh ' +str(nota))\n",
    "        break"
   ]
  },
  {
   "cell_type": "code",
   "execution_count": 11,
   "metadata": {},
   "outputs": [
    {
     "name": "stdout",
     "output_type": "stream",
     "text": [
      "Digite seu usuario: arroz\n",
      "Digite sua senha: arroz\n",
      "Error\n",
      "Digite seu usuario: pedro\n",
      "Digite sua senha: agusto\n",
      "Acesso permitido\n"
     ]
    }
   ],
   "source": [
    "x = 0\n",
    "while x == 0:\n",
    "    usuario = input('Digite seu usuario: ')\n",
    "    senha = input('Digite sua senha: ')\n",
    "    \n",
    "    if senha == usuario:\n",
    "        print('Error')\n",
    "    else:\n",
    "        print('Acesso permitido')\n",
    "        break"
   ]
  },
  {
   "cell_type": "code",
   "execution_count": null,
   "metadata": {},
   "outputs": [
    {
     "name": "stdout",
     "output_type": "stream",
     "text": [
      "Digite seu nome: caio\n",
      "Digite sua idade: 18\n",
      "Digite seu salario: 1000\n",
      "Digite seu sexo: m\n",
      "Digite seu estado civil: s\n",
      "Acesso permitido\n",
      "Digite seu estado civil: solteiro\n",
      "Erro\n",
      "Digite seu estado civil: s\n",
      "Acesso permitido\n",
      "Digite seu estado civil: s\n",
      "Acesso permitido\n",
      "Digite seu estado civil: s\n",
      "Acesso permitido\n",
      "Digite seu estado civil: s\n",
      "Acesso permitido\n",
      "Digite seu estado civil: \n",
      "Erro\n"
     ]
    }
   ],
   "source": [
    "x = 0\n",
    "while x == 0:\n",
    "    nome = input('Digite seu nome: ')\n",
    "    \n",
    "    if len(nome) <=3:\n",
    "        print('Erro')\n",
    "    else:\n",
    "        while x == 0:\n",
    "            idade = int(input('Digite sua idade: '))\n",
    "            if idade < 0 or idade > 150:\n",
    "                print('Erro')\n",
    "            else:\n",
    "                while x == 0:\n",
    "                    salario = int(input('Digite seu salario: '))\n",
    "                    if salario < 0:\n",
    "                        print('Erro')\n",
    "                    else:\n",
    "                         while x == 0:\n",
    "                                sexo = input('Digite seu sexo: ')\n",
    "                                if sexo != 'f' and sexo !='m' :\n",
    "                                    print('Erro')\n",
    "                                else:\n",
    "                                    while x == 0:\n",
    "                                        civil = input('Digite seu estado civil: ')\n",
    "                                        if civil != 's' and civil != 'c' and civil != 'v' and civil != 'd':\n",
    "                                            print('Erro')\n",
    "                                        else:\n",
    "                                            print ('Acesso permitido')\n",
    "                                                \n",
    "                "
   ]
  },
  {
   "cell_type": "code",
   "execution_count": null,
   "metadata": {},
   "outputs": [],
   "source": []
  }
 ],
 "metadata": {
  "kernelspec": {
   "display_name": "Python 3",
   "language": "python",
   "name": "python3"
  },
  "language_info": {
   "codemirror_mode": {
    "name": "ipython",
    "version": 3
   },
   "file_extension": ".py",
   "mimetype": "text/x-python",
   "name": "python",
   "nbconvert_exporter": "python",
   "pygments_lexer": "ipython3",
   "version": "3.7.6"
  }
 },
 "nbformat": 4,
 "nbformat_minor": 4
}
